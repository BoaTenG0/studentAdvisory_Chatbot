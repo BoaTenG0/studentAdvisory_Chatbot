{
 "cells": [
  {
   "cell_type": "code",
   "execution_count": 21,
   "id": "d2942ade",
   "metadata": {},
   "outputs": [],
   "source": [
    "import pandas as pd\n",
    "\n",
    "import nltk\n",
    "from nltk.stem import WordNetLemmatizer\n",
    "lemmatizer = WordNetLemmatizer()\n",
    "import json\n",
    "import pickle\n",
    "\n",
    "import warnings\n",
    "warnings.filterwarnings('ignore')\n",
    "\n",
    "from sklearn.preprocessing import LabelEncoder\n",
    "from tensorflow.keras.preprocessing.text import Tokenizer\n",
    "from tensorflow.keras.preprocessing.sequence import pad_sequences\n",
    "from sklearn.model_selection import train_test_split\n",
    "\n",
    "import numpy as np\n",
    "import tensorflow as tf\n",
    "from keras.models import Sequential\n",
    "from keras.layers import GlobalMaxPooling1D, Dense, Activation, Dropout, Embedding,Conv1D\n",
    "import random"
   ]
  },
  {
   "cell_type": "code",
   "execution_count": 22,
   "id": "b3e5a07d",
   "metadata": {},
   "outputs": [],
   "source": [
    "# Load dataset\n",
    "data = pd.read_csv('./stsv.csv')\n",
    "data.dropna(inplace=True) "
   ]
  },
  {
   "cell_type": "code",
   "execution_count": 23,
   "id": "58a1e2a6",
   "metadata": {},
   "outputs": [
    {
     "data": {
      "text/html": [
       "<div>\n",
       "<style scoped>\n",
       "    .dataframe tbody tr th:only-of-type {\n",
       "        vertical-align: middle;\n",
       "    }\n",
       "\n",
       "    .dataframe tbody tr th {\n",
       "        vertical-align: top;\n",
       "    }\n",
       "\n",
       "    .dataframe thead th {\n",
       "        text-align: right;\n",
       "    }\n",
       "</style>\n",
       "<table border=\"1\" class=\"dataframe\">\n",
       "  <thead>\n",
       "    <tr style=\"text-align: right;\">\n",
       "      <th></th>\n",
       "      <th>question</th>\n",
       "      <th>answer</th>\n",
       "    </tr>\n",
       "  </thead>\n",
       "  <tbody>\n",
       "    <tr>\n",
       "      <th>0</th>\n",
       "      <td>How much is the tuition?</td>\n",
       "      <td>On average, each credit (tc) has a tuition fee...</td>\n",
       "    </tr>\n",
       "    <tr>\n",
       "      <th>1</th>\n",
       "      <td>How much is the tuition?</td>\n",
       "      <td>On average, each credit (tc) has a tuition fee...</td>\n",
       "    </tr>\n",
       "    <tr>\n",
       "      <th>2</th>\n",
       "      <td>When is the deadline to pay tuition?</td>\n",
       "      <td>On average, each credit (tc) has a tuition fee...</td>\n",
       "    </tr>\n",
       "    <tr>\n",
       "      <th>3</th>\n",
       "      <td>School tuition?</td>\n",
       "      <td>On average, each credit (tc) has a tuition fee...</td>\n",
       "    </tr>\n",
       "    <tr>\n",
       "      <th>4</th>\n",
       "      <td>What are the school's tuition fees?</td>\n",
       "      <td>On average, each credit (tc) has a tuition fee...</td>\n",
       "    </tr>\n",
       "  </tbody>\n",
       "</table>\n",
       "</div>"
      ],
      "text/plain": [
       "                               question  \\\n",
       "0              How much is the tuition?   \n",
       "1              How much is the tuition?   \n",
       "2  When is the deadline to pay tuition?   \n",
       "3                       School tuition?   \n",
       "4   What are the school's tuition fees?   \n",
       "\n",
       "                                              answer  \n",
       "0  On average, each credit (tc) has a tuition fee...  \n",
       "1  On average, each credit (tc) has a tuition fee...  \n",
       "2  On average, each credit (tc) has a tuition fee...  \n",
       "3  On average, each credit (tc) has a tuition fee...  \n",
       "4  On average, each credit (tc) has a tuition fee...  "
      ]
     },
     "execution_count": 23,
     "metadata": {},
     "output_type": "execute_result"
    }
   ],
   "source": [
    "data.head()"
   ]
  },
  {
   "cell_type": "code",
   "execution_count": 24,
   "id": "2fd2d3d9",
   "metadata": {},
   "outputs": [
    {
     "data": {
      "text/plain": [
       "answer\n",
       "Portal account for students to register for courses, look up timetables, exam schedules, view study scores, training scores, evaluate course surveys...                                                                              72\n",
       "Hello, how can BeeBot help you?                                                                                                                                                                                                      68\n",
       "Use email MSSV@student.hcmus.edu.vn to send to the Technical Department support@fit.hcmus.edu.vn for support.                                                                                                                        61\n",
       "Hello, Please contact the Technical Department support@fit.hcmus.edu.vn for answers.                                                                                                                                                 60\n",
       "If you have any problems with Moodle and the Faculty website, please use email MSSV@student.hcmus.edu.vn to send an email to the Technical Department support@fit.hcmus.edu.vn for support.                                          60\n",
       "                                                                                                                                                                                                                                     ..\n",
       "Statistical probability can make judgments based on the frequency of occurrence of some interesting information among countless data (big data).                                                                                      8\n",
       "Linear algebra is a tool that is used a lot when the working object is no longer purely one or two dimensional, but multi-dimensional, then the processing will work on matrix calculations and not on data types. Is it simpler?     8\n",
       "Discrete mathematics is necessary for majors related to combinatorial optimization (graphs, scheduling, etc.), to majors that require a lot of relationships between objects.                                                         8\n",
       "Graduation conditions, graduation recognition, #keyword                                                                                                                                                                               6\n",
       "That's not possible (and the talented bachelor's program will be heavier than the regular program). For more details, please contact PDT.                                                                                             3\n",
       "Name: count, Length: 67, dtype: int64"
      ]
     },
     "execution_count": 24,
     "metadata": {},
     "output_type": "execute_result"
    }
   ],
   "source": [
    "# EDA - Check distribution of intents\n",
    "intent_counts = data['answer'].value_counts()\n",
    "intent_counts"
   ]
  },
  {
   "cell_type": "code",
   "execution_count": 25,
   "id": "c97f5798",
   "metadata": {},
   "outputs": [],
   "source": [
    "# Data Preparation\n",
    "X = data['question'].astype(str).values\n",
    "y = data['answer'].astype(str).values\n",
    "label_encoder = LabelEncoder()\n",
    "y_encoded = label_encoder.fit_transform(y)"
   ]
  },
  {
   "cell_type": "code",
   "execution_count": 26,
   "id": "8bd156d4",
   "metadata": {},
   "outputs": [],
   "source": [
    "# Prepare text data for CNN\n",
    "tokenizer = Tokenizer(num_words=5000, oov_token=\"<OOV>\")\n",
    "tokenizer.fit_on_texts(X)\n",
    "X_seq = tokenizer.texts_to_sequences(X)\n",
    "X_padded = pad_sequences(X_seq, maxlen=20, padding='post', truncating='post')"
   ]
  },
  {
   "cell_type": "code",
   "execution_count": 27,
   "id": "a81fc8ae",
   "metadata": {},
   "outputs": [],
   "source": [
    "# Train-test split for CNN\n",
    "X_train_cnn, X_test_cnn, y_train_cnn, y_test_cnn = train_test_split(X_padded, y_encoded, test_size=0.2, random_state=42)"
   ]
  },
  {
   "cell_type": "code",
   "execution_count": 28,
   "id": "ef23ebef",
   "metadata": {},
   "outputs": [],
   "source": [
    "# Define CNN Model Architecture\n",
    "cnn_model = Sequential([\n",
    "    Embedding(input_dim=5000, output_dim=16, input_length=20),\n",
    "    Conv1D(128, 5, activation='relu'),\n",
    "    GlobalMaxPooling1D(),\n",
    "    Dense(24, activation='relu'),\n",
    "    Dropout(0.5),\n",
    "    Dense(len(label_encoder.classes_), activation='softmax')\n",
    "])"
   ]
  },
  {
   "cell_type": "code",
   "execution_count": 29,
   "id": "96cfb90d",
   "metadata": {},
   "outputs": [
    {
     "name": "stdout",
     "output_type": "stream",
     "text": [
      "Model: \"sequential_1\"\n",
      "_________________________________________________________________\n",
      " Layer (type)                Output Shape              Param #   \n",
      "=================================================================\n",
      " embedding_1 (Embedding)     (None, 20, 16)            80000     \n",
      "                                                                 \n",
      " conv1d_1 (Conv1D)           (None, 16, 128)           10368     \n",
      "                                                                 \n",
      " global_max_pooling1d_1 (Gl  (None, 128)               0         \n",
      " obalMaxPooling1D)                                               \n",
      "                                                                 \n",
      " dense_2 (Dense)             (None, 24)                3096      \n",
      "                                                                 \n",
      " dropout_1 (Dropout)         (None, 24)                0         \n",
      "                                                                 \n",
      " dense_3 (Dense)             (None, 67)                1675      \n",
      "                                                                 \n",
      "=================================================================\n",
      "Total params: 95139 (371.64 KB)\n",
      "Trainable params: 95139 (371.64 KB)\n",
      "Non-trainable params: 0 (0.00 Byte)\n",
      "_________________________________________________________________\n"
     ]
    }
   ],
   "source": [
    "cnn_model.compile(loss='sparse_categorical_crossentropy', optimizer='adam', metrics=['accuracy'])\n",
    "cnn_model.summary()"
   ]
  },
  {
   "cell_type": "code",
   "execution_count": 30,
   "id": "27ea0ba6",
   "metadata": {
    "scrolled": true
   },
   "outputs": [
    {
     "name": "stdout",
     "output_type": "stream",
     "text": [
      "Epoch 1/10\n",
      "21/21 [==============================] - 1s 12ms/step - loss: 4.1975 - accuracy: 0.0234 - val_loss: 4.1897 - val_accuracy: 0.0602\n",
      "Epoch 2/10\n",
      "21/21 [==============================] - 0s 6ms/step - loss: 4.1664 - accuracy: 0.0452 - val_loss: 4.1646 - val_accuracy: 0.0693\n",
      "Epoch 3/10\n",
      "21/21 [==============================] - 0s 5ms/step - loss: 4.1170 - accuracy: 0.0437 - val_loss: 4.1139 - val_accuracy: 0.0512\n",
      "Epoch 4/10\n",
      "21/21 [==============================] - 0s 6ms/step - loss: 4.0398 - accuracy: 0.0573 - val_loss: 4.0285 - val_accuracy: 0.0602\n",
      "Epoch 5/10\n",
      "21/21 [==============================] - 0s 5ms/step - loss: 3.9112 - accuracy: 0.0822 - val_loss: 3.8843 - val_accuracy: 0.1867\n",
      "Epoch 6/10\n",
      "21/21 [==============================] - 0s 5ms/step - loss: 3.7005 - accuracy: 0.1418 - val_loss: 3.6669 - val_accuracy: 0.2410\n",
      "Epoch 7/10\n",
      "21/21 [==============================] - 0s 5ms/step - loss: 3.4481 - accuracy: 0.1923 - val_loss: 3.4092 - val_accuracy: 0.2651\n",
      "Epoch 8/10\n",
      "21/21 [==============================] - 0s 5ms/step - loss: 3.1964 - accuracy: 0.2330 - val_loss: 3.1692 - val_accuracy: 0.2982\n",
      "Epoch 9/10\n",
      "21/21 [==============================] - 0s 5ms/step - loss: 3.0039 - accuracy: 0.2511 - val_loss: 2.9466 - val_accuracy: 0.3163\n",
      "Epoch 10/10\n",
      "21/21 [==============================] - 0s 5ms/step - loss: 2.7776 - accuracy: 0.3107 - val_loss: 2.7400 - val_accuracy: 0.3524\n"
     ]
    },
    {
     "data": {
      "text/plain": [
       "<keras.src.callbacks.History at 0x200636cda50>"
      ]
     },
     "execution_count": 30,
     "metadata": {},
     "output_type": "execute_result"
    }
   ],
   "source": [
    "# Train CNN Model\n",
    "cnn_model.fit(X_train_cnn, y_train_cnn, epochs=10, validation_data=(X_test_cnn, y_test_cnn), batch_size=64)"
   ]
  },
  {
   "cell_type": "code",
   "execution_count": 31,
   "id": "7d832228",
   "metadata": {},
   "outputs": [],
   "source": [
    "# Prepare text data for SVM using TF-IDF\n",
    "tfidf = TfidfVectorizer(max_features=5000, ngram_range=(1, 2))\n",
    "X_tfidf = tfidf.fit_transform(data['question'].astype(str)).toarray()"
   ]
  },
  {
   "cell_type": "code",
   "execution_count": 32,
   "id": "2983a8d5",
   "metadata": {},
   "outputs": [],
   "source": [
    "# Train-test split for SVM\n",
    "X_train_svm, X_test_svm, y_train_svm, y_test_svm = train_test_split(X_tfidf, y_encoded, test_size=0.2, random_state=42)"
   ]
  },
  {
   "cell_type": "code",
   "execution_count": 33,
   "id": "db81a591",
   "metadata": {},
   "outputs": [
    {
     "data": {
      "text/html": [
       "<style>#sk-container-id-1 {color: black;}#sk-container-id-1 pre{padding: 0;}#sk-container-id-1 div.sk-toggleable {background-color: white;}#sk-container-id-1 label.sk-toggleable__label {cursor: pointer;display: block;width: 100%;margin-bottom: 0;padding: 0.3em;box-sizing: border-box;text-align: center;}#sk-container-id-1 label.sk-toggleable__label-arrow:before {content: \"▸\";float: left;margin-right: 0.25em;color: #696969;}#sk-container-id-1 label.sk-toggleable__label-arrow:hover:before {color: black;}#sk-container-id-1 div.sk-estimator:hover label.sk-toggleable__label-arrow:before {color: black;}#sk-container-id-1 div.sk-toggleable__content {max-height: 0;max-width: 0;overflow: hidden;text-align: left;background-color: #f0f8ff;}#sk-container-id-1 div.sk-toggleable__content pre {margin: 0.2em;color: black;border-radius: 0.25em;background-color: #f0f8ff;}#sk-container-id-1 input.sk-toggleable__control:checked~div.sk-toggleable__content {max-height: 200px;max-width: 100%;overflow: auto;}#sk-container-id-1 input.sk-toggleable__control:checked~label.sk-toggleable__label-arrow:before {content: \"▾\";}#sk-container-id-1 div.sk-estimator input.sk-toggleable__control:checked~label.sk-toggleable__label {background-color: #d4ebff;}#sk-container-id-1 div.sk-label input.sk-toggleable__control:checked~label.sk-toggleable__label {background-color: #d4ebff;}#sk-container-id-1 input.sk-hidden--visually {border: 0;clip: rect(1px 1px 1px 1px);clip: rect(1px, 1px, 1px, 1px);height: 1px;margin: -1px;overflow: hidden;padding: 0;position: absolute;width: 1px;}#sk-container-id-1 div.sk-estimator {font-family: monospace;background-color: #f0f8ff;border: 1px dotted black;border-radius: 0.25em;box-sizing: border-box;margin-bottom: 0.5em;}#sk-container-id-1 div.sk-estimator:hover {background-color: #d4ebff;}#sk-container-id-1 div.sk-parallel-item::after {content: \"\";width: 100%;border-bottom: 1px solid gray;flex-grow: 1;}#sk-container-id-1 div.sk-label:hover label.sk-toggleable__label {background-color: #d4ebff;}#sk-container-id-1 div.sk-serial::before {content: \"\";position: absolute;border-left: 1px solid gray;box-sizing: border-box;top: 0;bottom: 0;left: 50%;z-index: 0;}#sk-container-id-1 div.sk-serial {display: flex;flex-direction: column;align-items: center;background-color: white;padding-right: 0.2em;padding-left: 0.2em;position: relative;}#sk-container-id-1 div.sk-item {position: relative;z-index: 1;}#sk-container-id-1 div.sk-parallel {display: flex;align-items: stretch;justify-content: center;background-color: white;position: relative;}#sk-container-id-1 div.sk-item::before, #sk-container-id-1 div.sk-parallel-item::before {content: \"\";position: absolute;border-left: 1px solid gray;box-sizing: border-box;top: 0;bottom: 0;left: 50%;z-index: -1;}#sk-container-id-1 div.sk-parallel-item {display: flex;flex-direction: column;z-index: 1;position: relative;background-color: white;}#sk-container-id-1 div.sk-parallel-item:first-child::after {align-self: flex-end;width: 50%;}#sk-container-id-1 div.sk-parallel-item:last-child::after {align-self: flex-start;width: 50%;}#sk-container-id-1 div.sk-parallel-item:only-child::after {width: 0;}#sk-container-id-1 div.sk-dashed-wrapped {border: 1px dashed gray;margin: 0 0.4em 0.5em 0.4em;box-sizing: border-box;padding-bottom: 0.4em;background-color: white;}#sk-container-id-1 div.sk-label label {font-family: monospace;font-weight: bold;display: inline-block;line-height: 1.2em;}#sk-container-id-1 div.sk-label-container {text-align: center;}#sk-container-id-1 div.sk-container {/* jupyter's `normalize.less` sets `[hidden] { display: none; }` but bootstrap.min.css set `[hidden] { display: none !important; }` so we also need the `!important` here to be able to override the default hidden behavior on the sphinx rendered scikit-learn.org. See: https://github.com/scikit-learn/scikit-learn/issues/21755 */display: inline-block !important;position: relative;}#sk-container-id-1 div.sk-text-repr-fallback {display: none;}</style><div id=\"sk-container-id-1\" class=\"sk-top-container\"><div class=\"sk-text-repr-fallback\"><pre>SVC(kernel=&#x27;linear&#x27;, probability=True)</pre><b>In a Jupyter environment, please rerun this cell to show the HTML representation or trust the notebook. <br />On GitHub, the HTML representation is unable to render, please try loading this page with nbviewer.org.</b></div><div class=\"sk-container\" hidden><div class=\"sk-item\"><div class=\"sk-estimator sk-toggleable\"><input class=\"sk-toggleable__control sk-hidden--visually\" id=\"sk-estimator-id-1\" type=\"checkbox\" checked><label for=\"sk-estimator-id-1\" class=\"sk-toggleable__label sk-toggleable__label-arrow\">SVC</label><div class=\"sk-toggleable__content\"><pre>SVC(kernel=&#x27;linear&#x27;, probability=True)</pre></div></div></div></div></div>"
      ],
      "text/plain": [
       "SVC(kernel='linear', probability=True)"
      ]
     },
     "execution_count": 33,
     "metadata": {},
     "output_type": "execute_result"
    }
   ],
   "source": [
    "# Define and train SVM Model\n",
    "svm_model = SVC(kernel='linear', probability=True)\n",
    "svm_model.fit(X_train_svm, y_train_svm)"
   ]
  },
  {
   "cell_type": "code",
   "execution_count": 34,
   "id": "ef9a549e",
   "metadata": {},
   "outputs": [],
   "source": [
    "# Save models and other components\n",
    "cnn_model.save('student_advisory_cnn_model.h5')\n",
    "svm_model_path = 'student_advisory_svm_model.sav'\n",
    "tokenizer_path = 'tokenizer.pickle'\n",
    "tfidf_path = 'tfidf.pickle'\n",
    "label_encoder_path = 'label_encoder.pickle'\n",
    "\n",
    "with open(svm_model_path, 'wb') as svm_file:\n",
    "    pickle.dump(svm_model, svm_file)\n",
    "\n",
    "with open(tokenizer_path, 'wb') as tokenizer_file:\n",
    "    pickle.dump(tokenizer, tokenizer_file)\n",
    "\n",
    "with open(tfidf_path, 'wb') as tfidf_file:\n",
    "    pickle.dump(tfidf, tfidf_file)\n",
    "\n",
    "with open(label_encoder_path, 'wb') as encoder_file:\n",
    "    pickle.dump(label_encoder, encoder_file)"
   ]
  },
  {
   "cell_type": "code",
   "execution_count": 36,
   "id": "79212861",
   "metadata": {},
   "outputs": [],
   "source": [
    "# Function to make a prediction using CNN and SVM\n",
    "def predict_question_category(question: str) -> str:\n",
    "    # Preprocess for CNN\n",
    "    seq = tokenizer.texts_to_sequences([question])\n",
    "    padded = pad_sequences(seq, maxlen=20, padding='post', truncating='post')\n",
    "    cnn_pred = cnn_model.predict(padded)\n",
    "    \n",
    "    # Preprocess for SVM\n",
    "    tfidf_vector = tfidf.transform([question]).toarray()\n",
    "    svm_pred = svm_model.predict_proba(tfidf_vector)\n",
    "\n",
    "    # Combine CNN and SVM predictions (e.g., averaging probabilities)\n",
    "    combined_pred = np.mean([cnn_pred, svm_pred], axis=0)\n",
    "    pred_label_index = np.argmax(combined_pred)\n",
    "    pred_label = label_encoder.inverse_transform([pred_label_index])\n",
    "    \n",
    "    return pred_label[0]"
   ]
  },
  {
   "cell_type": "code",
   "execution_count": 39,
   "id": "cae9aaa8",
   "metadata": {},
   "outputs": [
    {
     "name": "stdout",
     "output_type": "stream",
     "text": [
      "WARNING:tensorflow:5 out of the last 5 calls to <function Model.make_predict_function.<locals>.predict_function at 0x0000020068C76D40> triggered tf.function retracing. Tracing is expensive and the excessive number of tracings could be due to (1) creating @tf.function repeatedly in a loop, (2) passing tensors with different shapes, (3) passing Python objects instead of tensors. For (1), please define your @tf.function outside of the loop. For (2), @tf.function has reduce_retracing=True option that can avoid unnecessary retracing. For (3), please refer to https://www.tensorflow.org/guide/function#controlling_retracing and https://www.tensorflow.org/api_docs/python/tf/function for  more details.\n",
      "1/1 [==============================] - 0s 65ms/step\n",
      "Predicted Answer: According to regulations, only students who are ethnic minorities and belong to poor or near-poor households are eligible for tuition exemption and reduction. Tuition exemption and reduction only applies to official courses, non-debt repayment courses. Tuition fee exemption.\n"
     ]
    }
   ],
   "source": [
    "\n",
    "# Load the trained CNN model, SVM model, tokenizer, TF-IDF vectorizer, and label encoder\n",
    "def load_model_and_resources(cnn_model_path, svm_model_path, tokenizer_path, tfidf_path, encoder_path):\n",
    "    try:\n",
    "        cnn_model = tf.keras.models.load_model(cnn_model_path)\n",
    "        with open(svm_model_path, 'rb') as svm_file:\n",
    "            svm_model = pickle.load(svm_file)\n",
    "        with open(tokenizer_path, 'rb') as tokenizer_file:\n",
    "            tokenizer = pickle.load(tokenizer_file)\n",
    "        with open(tfidf_path, 'rb') as tfidf_file:\n",
    "            tfidf = pickle.load(tfidf_file)\n",
    "        with open(encoder_path, 'rb') as encoder_file:\n",
    "            label_encoder = pickle.load(encoder_file)\n",
    "            \n",
    "        return cnn_model, svm_model, tokenizer, tfidf, label_encoder\n",
    "    except Exception as e:\n",
    "        print(f\"An error occurred while loading the resources: {e}\")\n",
    "        return None, None, None, None, None\n",
    "\n",
    "# Example usage\n",
    "if __name__ == \"__main__\":\n",
    "    # Paths to the saved model and resources\n",
    "    cnn_model_path = 'student_advisory_cnn_model.h5'\n",
    "    svm_model_path = 'student_advisory_svm_model.sav'\n",
    "    tokenizer_path = 'tokenizer.pickle'\n",
    "    tfidf_path = 'tfidf.pickle'\n",
    "    encoder_path = 'label_encoder.pickle'\n",
    "    \n",
    "    # Load the trained model and resources\n",
    "    cnn_model, svm_model, tokenizer, tfidf, label_encoder = load_model_and_resources(\n",
    "        cnn_model_path, svm_model_path, tokenizer_path, tfidf_path, encoder_path\n",
    "    )\n",
    "    \n",
    "    # Ensure the resources are loaded successfully before proceeding\n",
    "    if cnn_model and svm_model and tokenizer and tfidf and label_encoder:\n",
    "        question = \"Can students who pay off debt receive tuition exemptions?\"\n",
    "        predicted_category = predict_question_category(question)\n",
    "        print(f\"Predicted Answer: {predicted_category}\")\n",
    "    else:\n",
    "        print(\"Resources were not loaded properly.\")\n"
   ]
  }
 ],
 "metadata": {
  "kernelspec": {
   "display_name": "Python 3 (ipykernel)",
   "language": "python",
   "name": "python3"
  },
  "language_info": {
   "codemirror_mode": {
    "name": "ipython",
    "version": 3
   },
   "file_extension": ".py",
   "mimetype": "text/x-python",
   "name": "python",
   "nbconvert_exporter": "python",
   "pygments_lexer": "ipython3",
   "version": "3.11.5"
  }
 },
 "nbformat": 4,
 "nbformat_minor": 5
}
